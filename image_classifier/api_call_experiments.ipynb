{
 "cells": [
  {
   "cell_type": "code",
   "execution_count": 28,
   "metadata": {},
   "outputs": [
    {
     "name": "stdout",
     "output_type": "stream",
     "text": [
      "200 {'type': 'b22', 'probability': '0.3088611'}\n"
     ]
    }
   ],
   "source": [
    "import requests\n",
    "\n",
    "#Define API and Input\n",
    "url = \"http://127.0.0.1:8000/predictbulb/\"\n",
    "file_path = 'test_bulb.jpg'\n",
    "\n",
    "#Prepare Input\n",
    "files = {'file': (file_path, open(file_path, 'rb'), \"image/jpeg\")}\n",
    "response = requests.post(url, files=files)\n",
    "\n",
    "print(response.status_code, response.json())"
   ]
  },
  {
   "cell_type": "code",
   "execution_count": 29,
   "metadata": {},
   "outputs": [],
   "source": [
    "# We can now just run this code within a webpage. "
   ]
  },
  {
   "cell_type": "code",
   "execution_count": null,
   "metadata": {},
   "outputs": [],
   "source": []
  }
 ],
 "metadata": {
  "kernelspec": {
   "display_name": "fast_api",
   "language": "python",
   "name": "fast_api"
  },
  "language_info": {
   "codemirror_mode": {
    "name": "ipython",
    "version": 3
   },
   "file_extension": ".py",
   "mimetype": "text/x-python",
   "name": "python",
   "nbconvert_exporter": "python",
   "pygments_lexer": "ipython3",
   "version": "3.8.5"
  }
 },
 "nbformat": 4,
 "nbformat_minor": 4
}
